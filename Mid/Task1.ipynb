{
  "nbformat": 4,
  "nbformat_minor": 0,
  "metadata": {
    "colab": {
      "provenance": []
    },
    "kernelspec": {
      "name": "python3",
      "display_name": "Python 3"
    },
    "language_info": {
      "name": "python"
    }
  },
  "cells": [
    {
      "cell_type": "code",
      "execution_count": 6,
      "metadata": {
        "colab": {
          "base_uri": "https://localhost:8080/"
        },
        "id": "kgpKfhhm1yWb",
        "outputId": "2424a6ad-ce4b-4dd0-fe1b-52f1e7adb959"
      },
      "outputs": [
        {
          "output_type": "stream",
          "name": "stdout",
          "text": [
            "440\n"
          ]
        }
      ],
      "source": [
        "\n",
        "numbers = list(range(1, 11)) #list containing number from 1 to 10\n",
        "\n",
        "for num in range(1, 11):\n",
        "    numbers.append(num ** 2) #here we append the square of all numbers to our list\n",
        "print( sum(numbers))"
      ]
    },
    {
      "cell_type": "code",
      "source": [
        "numbers = (2, 4, 6, 8, 10) #tuple\n",
        "s = 1\n",
        "for i in numbers:\n",
        "    s *= i #here we calculating the sum\n",
        "print( s)"
      ],
      "metadata": {
        "colab": {
          "base_uri": "https://localhost:8080/"
        },
        "id": "zSR5zlKG10D1",
        "outputId": "6f5344bd-7361-499e-ff4c-0a39c4994f93"
      },
      "execution_count": 5,
      "outputs": [
        {
          "output_type": "stream",
          "name": "stdout",
          "text": [
            "3840\n"
          ]
        }
      ]
    },
    {
      "cell_type": "code",
      "source": [
        "\n",
        "set1 = {1, 3, 5, 7, 9} #2 sets of odd numbers 1-10\n",
        "set2 = {1, 3, 5}\n",
        "\n",
        "\n",
        "union= set1.union(set2) #here we find the union of 2 sets\n",
        "print( union)\n",
        "\n",
        "\n",
        "intersection = set1.intersection(set2) #here we find the intersection of 2 sets\n",
        "print( intersection)"
      ],
      "metadata": {
        "colab": {
          "base_uri": "https://localhost:8080/"
        },
        "id": "xfI7KE5p6cnB",
        "outputId": "9e7f2ffe-f910-4914-d250-43462fa4bbfa"
      },
      "execution_count": 9,
      "outputs": [
        {
          "output_type": "stream",
          "name": "stdout",
          "text": [
            "{1, 3, 5, 7, 9}\n",
            "{1, 3, 5}\n"
          ]
        }
      ]
    },
    {
      "cell_type": "code",
      "source": [
        "\n",
        "def square(x): #defining a function which returns square of a number\n",
        "    return x ** 2\n",
        "\n",
        "numbers = list(range(1, 11))\n",
        "flag = list(map(square, numbers)) # here we apply the function to all the element in the list\n",
        "\n",
        "print( flag)\n"
      ],
      "metadata": {
        "colab": {
          "base_uri": "https://localhost:8080/"
        },
        "id": "fgXb-v5h7JkT",
        "outputId": "520fb818-7054-4f82-c601-5b2a2422cc2e"
      },
      "execution_count": 12,
      "outputs": [
        {
          "output_type": "stream",
          "name": "stdout",
          "text": [
            "[1, 4, 9, 16, 25, 36, 49, 64, 81, 100]\n"
          ]
        }
      ]
    }
  ]
}